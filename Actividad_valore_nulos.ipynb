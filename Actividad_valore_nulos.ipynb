{
  "nbformat": 4,
  "nbformat_minor": 0,
  "metadata": {
    "colab": {
      "provenance": [],
      "authorship_tag": "ABX9TyNyGKxRL5J3MAfQXKgUw5fs",
      "include_colab_link": true
    },
    "kernelspec": {
      "name": "python3",
      "display_name": "Python 3"
    },
    "language_info": {
      "name": "python"
    }
  },
  "cells": [
    {
      "cell_type": "markdown",
      "metadata": {
        "id": "view-in-github",
        "colab_type": "text"
      },
      "source": [
        "<a href=\"https://colab.research.google.com/github/Wichoskli/Valores-nulos-1.1/blob/main/Actividad_valore_nulos.ipynb\" target=\"_parent\"><img src=\"https://colab.research.google.com/assets/colab-badge.svg\" alt=\"Open In Colab\"/></a>"
      ]
    },
    {
      "cell_type": "code",
      "execution_count": 2,
      "metadata": {
        "id": "m9sDKnFYN-XS"
      },
      "outputs": [],
      "source": [
        "#Importar librerias\n",
        "import pandas as pd\n",
        "import numpy as np\n",
        "import matplotlib.pyplot as plt"
      ]
    },
    {
      "cell_type": "code",
      "source": [
        "#Primer Archivo CSV\n",
        "from google.colab import files\n",
        "files.upload()"
      ],
      "metadata": {
        "id": "Jr3yzfyKOVU4"
      },
      "execution_count": null,
      "outputs": []
    },
    {
      "cell_type": "code",
      "source": [
        "#Convertir a DataFrame\n",
        "data = pd.read_csv(\"Ventas_totales.csv\")\n",
        "data.head(5)"
      ],
      "metadata": {
        "id": "dASCLybTOVSp"
      },
      "execution_count": null,
      "outputs": []
    },
    {
      "cell_type": "code",
      "source": [
        "#Identificar valores nulos por suma\n",
        "valores_nulos=data.isnull().sum()\n",
        "valores_nulos"
      ],
      "metadata": {
        "id": "XB2XdbbJOVQO"
      },
      "execution_count": null,
      "outputs": []
    },
    {
      "cell_type": "code",
      "source": [
        "#Realizamos una copia del dataframe\n",
        "data1=data.copy()"
      ],
      "metadata": {
        "id": "8hcFBlkEOVNs"
      },
      "execution_count": null,
      "outputs": []
    },
    {
      "cell_type": "code",
      "source": [
        "#Primer método de sustitución de valores nulos\n",
        "#Sustituir valores nulos con promedio o media\n",
        "data1[\"tarjetas_debito\"]=data1[\"tarjetas_debito\"].fillna(round(data[\"tarjetas_debito\"].mean(),1))"
      ],
      "metadata": {
        "id": "q_38DBmrOVLC"
      },
      "execution_count": null,
      "outputs": []
    },
    {
      "cell_type": "code",
      "source": [
        "#Identificar valores nulos por suma\n",
        "valores_nulos=data1.isnull().sum()\n",
        "valores_nulos"
      ],
      "metadata": {
        "id": "EdFmL7wcOVIo"
      },
      "execution_count": null,
      "outputs": []
    },
    {
      "cell_type": "code",
      "source": [
        "#Primer método de sustitución de valores nulos\n",
        "#Sustituir valores nulos con promedio o media\n",
        "data1[\"tarjetas_credito\"]=data1[\"tarjetas_credito\"].fillna(round(data[\"tarjetas_credito\"].mean(),1))"
      ],
      "metadata": {
        "id": "_BZW5TfCO3Nv"
      },
      "execution_count": null,
      "outputs": []
    },
    {
      "cell_type": "code",
      "source": [
        "#Identificar valores nulos por suma\n",
        "valores_nulos=data1.isnull().sum()\n",
        "valores_nulos"
      ],
      "metadata": {
        "id": "war9sKCJO3Kp"
      },
      "execution_count": null,
      "outputs": []
    },
    {
      "cell_type": "code",
      "source": [
        "#Primer método de sustitución de valores nulos\n",
        "#Sustituir valores nulos con promedio o media\n",
        "data1[\"otros_medios\"]=data1[\"otros_medios\"].fillna(round(data[\"otros_medios\"].mean(),1))"
      ],
      "metadata": {
        "id": "85wFkqaBO3Hx"
      },
      "execution_count": null,
      "outputs": []
    },
    {
      "cell_type": "code",
      "source": [
        "#Identificar valores nulos por suma\n",
        "valores_nulos=data1.isnull().sum()\n",
        "valores_nulos"
      ],
      "metadata": {
        "id": "5RuIWZgbO3Fc"
      },
      "execution_count": null,
      "outputs": []
    },
    {
      "cell_type": "code",
      "source": [
        "#Segundo método de sustitución de valores nulos\n",
        "#Sustituir valores nulos con mediante\n",
        "data1[\"subtotal_ventas_alimentos_bebidas\"]=data1[\"subtotal_ventas_alimentos_bebidas\"].fillna(round(data[\"subtotal_ventas_alimentos_bebidas\"].median(),1))\n",
        "data1"
      ],
      "metadata": {
        "id": "QZQqb2tWOVGL"
      },
      "execution_count": null,
      "outputs": []
    },
    {
      "cell_type": "code",
      "source": [
        "#Identificar valores nulos por suma\n",
        "valores_nulos=data1.isnull().sum()\n",
        "valores_nulos"
      ],
      "metadata": {
        "id": "e5pIThLWOyXx"
      },
      "execution_count": null,
      "outputs": []
    },
    {
      "cell_type": "code",
      "source": [
        "#Segundo método de sustitución de valores nulos\n",
        "#Sustituir valores nulos con mediante\n",
        "data1[\"subtotal_ventas_alimentos_bebidas\"]=data1[\"subtotal_ventas_alimentos_bebidas\"].fillna(round(data[\"subtotal_ventas_alimentos_bebidas\"].median(),1))\n",
        "data1"
      ],
      "metadata": {
        "id": "V4aNT3DaOyUx"
      },
      "execution_count": null,
      "outputs": []
    },
    {
      "cell_type": "code",
      "source": [
        "#Identificar valores nulos por suma\n",
        "valores_nulos=data1.isnull().sum()\n",
        "valores_nulos"
      ],
      "metadata": {
        "id": "sNUnsXIyOySU"
      },
      "execution_count": null,
      "outputs": []
    },
    {
      "cell_type": "code",
      "source": [
        "#Segundo método de sustitución de valores nulos\n",
        "#Sustituir valores nulos con mediante\n",
        "data1[\"bebidas\"]=data1[\"bebidas\"].fillna(round(data[\"bebidas\"].median(),1))\n",
        "data1"
      ],
      "metadata": {
        "id": "c2MGGhMTOyPl"
      },
      "execution_count": null,
      "outputs": []
    },
    {
      "cell_type": "code",
      "source": [
        "#Identificar valores nulos por suma\n",
        "valores_nulos=data1.isnull().sum()\n",
        "valores_nulos"
      ],
      "metadata": {
        "id": "iK__EFLXOyMw"
      },
      "execution_count": null,
      "outputs": []
    },
    {
      "cell_type": "code",
      "source": [
        "#Segundo método de sustitución de valores nulos\n",
        "#Sustituir valores nulos con mediante\n",
        "data1[\"almacen\"]=data1[\"almacen\"].fillna(round(data[\"almacen\"].median(),1))\n",
        "data1"
      ],
      "metadata": {
        "id": "EhAc6b8mOyJ5"
      },
      "execution_count": null,
      "outputs": []
    },
    {
      "cell_type": "code",
      "source": [
        "#Identificar valores nulos por suma\n",
        "valores_nulos=data1.isnull().sum()\n",
        "valores_nulos"
      ],
      "metadata": {
        "id": "9y85G1h6OVDi"
      },
      "execution_count": null,
      "outputs": []
    },
    {
      "cell_type": "code",
      "source": [
        "#Segundo método de sustitución de valores nulos\n",
        "#Sustituir valores nulos con mediante\n",
        "data1[\"panaderia\"]=data1[\"panaderia\"].fillna(round(data[\"panaderia\"].median(),1))\n",
        "data1"
      ],
      "metadata": {
        "id": "iOZtrSW2OVBE"
      },
      "execution_count": null,
      "outputs": []
    },
    {
      "cell_type": "code",
      "source": [
        "#Identificar valores nulos por suma\n",
        "valores_nulos=data1.isnull().sum()\n",
        "valores_nulos"
      ],
      "metadata": {
        "id": "qQC8jQpkPQBU"
      },
      "execution_count": null,
      "outputs": []
    },
    {
      "cell_type": "code",
      "source": [
        "#Tercer método de sustitución de valores nulos\n",
        "#Sustituir valores nulos por un valor numérico en  concreto\n",
        "data1[\"articulos_limpieza_perfumeria\"]= data1[\"articulos_limpieza_perfumeria\"].fillna(10)\n",
        "data1\n"
      ],
      "metadata": {
        "id": "HuKBELt6PP-y"
      },
      "execution_count": null,
      "outputs": []
    },
    {
      "cell_type": "code",
      "source": [
        "#Identificar valores nulos por suma\n",
        "valores_nulos=data1.isnull().sum()\n",
        "valores_nulos"
      ],
      "metadata": {
        "id": "Uio1e3ZwPP8j"
      },
      "execution_count": null,
      "outputs": []
    },
    {
      "cell_type": "code",
      "source": [
        "#Tercer método de sustitución de valores nulos\n",
        "#Sustituir valores nulos por un valor numérico en  concreto\n",
        "data1[\"indumentaria_calzado_textiles_hogar\"]= data1[\"indumentaria_calzado_textiles_hogar\"].fillna(3)\n",
        "data1"
      ],
      "metadata": {
        "id": "hOm5hyrDPP6F"
      },
      "execution_count": null,
      "outputs": []
    },
    {
      "cell_type": "code",
      "source": [
        "#Identificar valores nulos por suma\n",
        "valores_nulos=data1.isnull().sum()\n",
        "valores_nulos"
      ],
      "metadata": {
        "id": "TX6OvU05PP3i"
      },
      "execution_count": null,
      "outputs": []
    },
    {
      "cell_type": "code",
      "source": [
        "#Tercer método de sustitución de valores nulos\n",
        "#Sustituir valores nulos por un valor numérico en  concreto\n",
        "data1[\"electronicos_articulos_hogar\"]= data1[\"electronicos_articulos_hogar\"].fillna(7)\n",
        "data1"
      ],
      "metadata": {
        "id": "ISOMs-ZvPP04"
      },
      "execution_count": null,
      "outputs": []
    },
    {
      "cell_type": "code",
      "source": [
        "#Identificar valores nulos por suma\n",
        "valores_nulos=data1.isnull().sum()\n",
        "valores_nulos"
      ],
      "metadata": {
        "id": "cJiAbqttPPyi"
      },
      "execution_count": null,
      "outputs": []
    },
    {
      "cell_type": "code",
      "source": [
        "#Quinto método de sustitución de valores nulos\n",
        "#Sustituir valores nulos por valores no nulos hacia adelante  \"forward fill\" (\"ffill\")\n",
        "#Filtro por columnas\n",
        "data1[\"lacteos\"] =data1[\"lacteos\"].fillna(method=\"ffill\")"
      ],
      "metadata": {
        "id": "zbInimcnPPwC"
      },
      "execution_count": null,
      "outputs": []
    },
    {
      "cell_type": "code",
      "source": [
        "#Identificar valores nulos por suma\n",
        "valores_nulos=data1.isnull().sum()\n",
        "valores_nulos"
      ],
      "metadata": {
        "id": "wWMrYJRfPPtv"
      },
      "execution_count": null,
      "outputs": []
    },
    {
      "cell_type": "code",
      "source": [
        "#Quinto método de sustitución de valores nulos\n",
        "#Sustituir valores nulos por valores no nulos hacia adelante  \"forward fill\" (\"ffill\")\n",
        "#Filtro por columnas\n",
        "data1[\"carnes\"] =data1[\"carnes\"].fillna(method=\"ffill\")"
      ],
      "metadata": {
        "id": "5AriFO5cPcd2"
      },
      "execution_count": null,
      "outputs": []
    },
    {
      "cell_type": "code",
      "source": [
        "#Identificar valores nulos por suma\n",
        "valores_nulos=data1.isnull().sum()\n",
        "valores_nulos"
      ],
      "metadata": {
        "id": "b6-Mm_o3PccE"
      },
      "execution_count": null,
      "outputs": []
    },
    {
      "cell_type": "code",
      "source": [
        "#Quinto método de sustitución de valores nulos\n",
        "#Sustituir valores nulos por valores no nulos hacia adelante  \"forward fill\" (\"ffill\")\n",
        "#Filtro por columnas\n",
        "data1[\"verduleria_fruteria\"] =data1[\"verduleria_fruteria\"].fillna(method=\"ffill\")"
      ],
      "metadata": {
        "id": "XQTez_zoPcZq"
      },
      "execution_count": null,
      "outputs": []
    },
    {
      "cell_type": "code",
      "source": [
        "#Identificar valores nulos por suma\n",
        "valores_nulos=data1.isnull().sum()\n",
        "valores_nulos"
      ],
      "metadata": {
        "id": "ZTkPgETVPcXN"
      },
      "execution_count": null,
      "outputs": []
    },
    {
      "cell_type": "code",
      "source": [
        "#Primer método de sustitución de valores nulos\n",
        "#Sustituir valores nulos con promedio o media\n",
        "data1[\"otros\"]=data1[\"otros\"].fillna(round(data[\"otros\"].mean(),1))"
      ],
      "metadata": {
        "id": "iKURtK0hPcUs"
      },
      "execution_count": null,
      "outputs": []
    },
    {
      "cell_type": "code",
      "source": [
        "#Identificar valores nulos por suma\n",
        "valores_nulos=data1.isnull().sum()\n",
        "valores_nulos"
      ],
      "metadata": {
        "id": "VgMenv_jPcSB"
      },
      "execution_count": null,
      "outputs": []
    },
    {
      "cell_type": "code",
      "source": [
        "#Primer método de sustitución de valores nulos\n",
        "#Sustituir valores nulos con promedio o media\n",
        "data1[\"alimentos_preparados_rotiseria\"]=data1[\"alimentos_preparados_rotiseria\"].fillna(round(data[\"alimentos_preparados_rotiseria\"].mean(),1))"
      ],
      "metadata": {
        "id": "Ho84HjnyPkRc"
      },
      "execution_count": null,
      "outputs": []
    },
    {
      "cell_type": "code",
      "source": [
        "#Identificar valores nulos por suma\n",
        "valores_nulos=data1.isnull().sum()\n",
        "valores_nulos"
      ],
      "metadata": {
        "id": "Tt_MqylGPkO2"
      },
      "execution_count": null,
      "outputs": []
    },
    {
      "cell_type": "code",
      "source": [
        "#Primer método de sustitución de valores nulos\n",
        "#Sustituir valores nulos con promedio o media\n",
        "data1[\"salon_ventas\"]=data1[\"salon_ventas\"].fillna(round(data[\"salon_ventas\"].mean(),1))"
      ],
      "metadata": {
        "id": "KYEdd9UtPkKN"
      },
      "execution_count": null,
      "outputs": []
    },
    {
      "cell_type": "code",
      "source": [
        "#Corroboramos valores nulos en todo el dataframe\n",
        "valores_nulos=data1.isnull().sum().sum()\n",
        "valores_nulos"
      ],
      "metadata": {
        "id": "HQKawE6ZPkHS"
      },
      "execution_count": null,
      "outputs": []
    },
    {
      "cell_type": "code",
      "source": [
        "data1.info()"
      ],
      "metadata": {
        "id": "VLeGpDUNPps1"
      },
      "execution_count": null,
      "outputs": []
    },
    {
      "cell_type": "markdown",
      "source": [
        "DataSet sin valores nulos a CSV"
      ],
      "metadata": {
        "id": "4CBB-xHRPrhm"
      }
    },
    {
      "cell_type": "code",
      "source": [
        "#Convertir DataFrame a CSV\n",
        "data1.to_csv(\"Ventas_nulos.csv\")"
      ],
      "metadata": {
        "id": "eLBIP8YAPpqi"
      },
      "execution_count": null,
      "outputs": []
    },
    {
      "cell_type": "code",
      "source": [
        "#descargar archivo filtrado en csv\n",
        "from google.colab import files\n",
        "\n",
        "files.download(\"Ventas_nulos.csv\")"
      ],
      "metadata": {
        "id": "tc9FUPjIPpny"
      },
      "execution_count": null,
      "outputs": []
    }
  ]
}